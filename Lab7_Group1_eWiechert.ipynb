{
 "cells": [
  {
   "cell_type": "code",
   "execution_count": 1,
   "id": "9d28ee0a",
   "metadata": {},
   "outputs": [],
   "source": [
    "#imports\n",
    "import numpy as np\n",
    "import pandas as pd\n",
    "from sklearn.model_selection import train_test_split, KFold\n",
    "from sklearn import svm"
   ]
  },
  {
   "cell_type": "markdown",
   "id": "afc5b8e2",
   "metadata": {},
   "source": [
    "### Preprocessing and set up"
   ]
  },
  {
   "cell_type": "code",
   "execution_count": 2,
   "id": "7c81569a",
   "metadata": {},
   "outputs": [],
   "source": [
    "brc = pd.read_csv('brc.txt')"
   ]
  },
  {
   "cell_type": "code",
   "execution_count": 3,
   "id": "377d0a37",
   "metadata": {},
   "outputs": [],
   "source": [
    "#Set column names\n",
    "headers = ['record_id', 'clump_thickness', 'uniform_cellsize', 'uniform_cellshape', 'marginal_adhesion', 'cell_size_epit_sing', 'bare_nuclei', 'bland_chromatin', 'normal_nuclei', 'mitoses', 'malignancy']\n",
    "brc.columns = headers"
   ]
  },
  {
   "cell_type": "code",
   "execution_count": 4,
   "id": "931030dc",
   "metadata": {},
   "outputs": [
    {
     "data": {
      "text/html": [
       "<div>\n",
       "<style scoped>\n",
       "    .dataframe tbody tr th:only-of-type {\n",
       "        vertical-align: middle;\n",
       "    }\n",
       "\n",
       "    .dataframe tbody tr th {\n",
       "        vertical-align: top;\n",
       "    }\n",
       "\n",
       "    .dataframe thead th {\n",
       "        text-align: right;\n",
       "    }\n",
       "</style>\n",
       "<table border=\"1\" class=\"dataframe\">\n",
       "  <thead>\n",
       "    <tr style=\"text-align: right;\">\n",
       "      <th></th>\n",
       "      <th>record_id</th>\n",
       "      <th>clump_thickness</th>\n",
       "      <th>uniform_cellsize</th>\n",
       "      <th>uniform_cellshape</th>\n",
       "      <th>marginal_adhesion</th>\n",
       "      <th>cell_size_epit_sing</th>\n",
       "      <th>bare_nuclei</th>\n",
       "      <th>bland_chromatin</th>\n",
       "      <th>normal_nuclei</th>\n",
       "      <th>mitoses</th>\n",
       "      <th>malignancy</th>\n",
       "    </tr>\n",
       "  </thead>\n",
       "  <tbody>\n",
       "    <tr>\n",
       "      <th>0</th>\n",
       "      <td>1002945</td>\n",
       "      <td>5</td>\n",
       "      <td>4</td>\n",
       "      <td>4</td>\n",
       "      <td>5</td>\n",
       "      <td>7</td>\n",
       "      <td>10</td>\n",
       "      <td>3</td>\n",
       "      <td>2</td>\n",
       "      <td>1</td>\n",
       "      <td>2</td>\n",
       "    </tr>\n",
       "    <tr>\n",
       "      <th>1</th>\n",
       "      <td>1015425</td>\n",
       "      <td>3</td>\n",
       "      <td>1</td>\n",
       "      <td>1</td>\n",
       "      <td>1</td>\n",
       "      <td>2</td>\n",
       "      <td>2</td>\n",
       "      <td>3</td>\n",
       "      <td>1</td>\n",
       "      <td>1</td>\n",
       "      <td>2</td>\n",
       "    </tr>\n",
       "    <tr>\n",
       "      <th>2</th>\n",
       "      <td>1016277</td>\n",
       "      <td>6</td>\n",
       "      <td>8</td>\n",
       "      <td>8</td>\n",
       "      <td>1</td>\n",
       "      <td>3</td>\n",
       "      <td>4</td>\n",
       "      <td>3</td>\n",
       "      <td>7</td>\n",
       "      <td>1</td>\n",
       "      <td>2</td>\n",
       "    </tr>\n",
       "    <tr>\n",
       "      <th>3</th>\n",
       "      <td>1017023</td>\n",
       "      <td>4</td>\n",
       "      <td>1</td>\n",
       "      <td>1</td>\n",
       "      <td>3</td>\n",
       "      <td>2</td>\n",
       "      <td>1</td>\n",
       "      <td>3</td>\n",
       "      <td>1</td>\n",
       "      <td>1</td>\n",
       "      <td>2</td>\n",
       "    </tr>\n",
       "    <tr>\n",
       "      <th>4</th>\n",
       "      <td>1017122</td>\n",
       "      <td>8</td>\n",
       "      <td>10</td>\n",
       "      <td>10</td>\n",
       "      <td>8</td>\n",
       "      <td>7</td>\n",
       "      <td>10</td>\n",
       "      <td>9</td>\n",
       "      <td>7</td>\n",
       "      <td>1</td>\n",
       "      <td>4</td>\n",
       "    </tr>\n",
       "  </tbody>\n",
       "</table>\n",
       "</div>"
      ],
      "text/plain": [
       "   record_id  clump_thickness  uniform_cellsize  uniform_cellshape  \\\n",
       "0    1002945                5                 4                  4   \n",
       "1    1015425                3                 1                  1   \n",
       "2    1016277                6                 8                  8   \n",
       "3    1017023                4                 1                  1   \n",
       "4    1017122                8                10                 10   \n",
       "\n",
       "   marginal_adhesion  cell_size_epit_sing  bare_nuclei  bland_chromatin  \\\n",
       "0                  5                    7           10                3   \n",
       "1                  1                    2            2                3   \n",
       "2                  1                    3            4                3   \n",
       "3                  3                    2            1                3   \n",
       "4                  8                    7           10                9   \n",
       "\n",
       "   normal_nuclei  mitoses  malignancy  \n",
       "0              2        1           2  \n",
       "1              1        1           2  \n",
       "2              7        1           2  \n",
       "3              1        1           2  \n",
       "4              7        1           4  "
      ]
     },
     "execution_count": 4,
     "metadata": {},
     "output_type": "execute_result"
    }
   ],
   "source": [
    "#display the headers\n",
    "brc.head()"
   ]
  },
  {
   "cell_type": "code",
   "execution_count": 5,
   "id": "453b1af4",
   "metadata": {},
   "outputs": [],
   "source": [
    "#create the X set, which contains the features\n",
    "xset = brc[['clump_thickness', 'uniform_cellsize', 'uniform_cellshape', 'marginal_adhesion', 'cell_size_epit_sing', 'bare_nuclei', 'bland_chromatin', 'normal_nuclei', 'mitoses']]\n",
    "#create the Y set, which contains the labels\n",
    "yset = brc['malignancy']"
   ]
  },
  {
   "cell_type": "code",
   "execution_count": 6,
   "id": "48aa270a",
   "metadata": {},
   "outputs": [],
   "source": [
    "#split testing and training sets\n",
    "xtrain, xtest, ytrain, ytest = train_test_split(xset, yset, random_state = 13)"
   ]
  },
  {
   "cell_type": "markdown",
   "id": "39ffe935",
   "metadata": {},
   "source": [
    "### Question 1 polynomial grid search"
   ]
  },
  {
   "cell_type": "code",
   "execution_count": 7,
   "id": "3e563009",
   "metadata": {},
   "outputs": [],
   "source": [
    "#define polynomial kernel grid search\n",
    "def poly_grid_search(costs = [0.001, 0.01, 0.1, 1, 10, 100, 1000], degree = [1, 2, 3, 4, 5, 6, 7, 8, 9, 10]):\n",
    "    \n",
    "    bestCost = -1\n",
    "    bestDeg = -1\n",
    "    bestScore = -1\n",
    "    \n",
    "    #iterate over all costs\n",
    "    for cost in costs:\n",
    "        #iterate over all degrees\n",
    "        for deg in degree:\n",
    "            #instantiate SVC with the current loops' values\n",
    "            psvmc = svm.SVC(kernel = 'poly', C = cost, degree = deg)\n",
    "            #fit the data\n",
    "            psvmc.fit(xtrain, ytrain)\n",
    "            #store the local score of this combination of hyperparameters\n",
    "            localScore = psvmc.score(xtest, ytest)\n",
    "            \n",
    "            #print this iteration's peformance and hyperparameters\n",
    "            #use the string format/token placeholder/{} replacement method to format the output so it is uniform\n",
    "            print('C = {0: <5} || Degree = {1: <4} || Accuracy: {2: <20}'.format(cost, deg, localScore))\n",
    "            \n",
    "            #selects the best combination:\n",
    "            #if the current combination did a better job (scored better in accuracy), \n",
    "            if(localScore > bestScore):\n",
    "                #replace the current best values and score for output\n",
    "                bestCost = cost\n",
    "                bestDeg = deg\n",
    "                bestScore = localScore\n",
    "    \n",
    "    #string formatted output, using positional replacement in tandem with positional arguments\n",
    "    print('\\nBest Score: {}, with Cost = {} and Degree = {}'.format(bestScore, bestCost, bestDeg))\n",
    "    return bestCost, bestDeg, bestScore"
   ]
  },
  {
   "cell_type": "code",
   "execution_count": 8,
   "id": "003ef77f",
   "metadata": {},
   "outputs": [
    {
     "name": "stdout",
     "output_type": "stream",
     "text": [
      "C = 0.01  || Degree = 2    || Accuracy: 0.9590643274853801  \n",
      "C = 0.01  || Degree = 3    || Accuracy: 0.9590643274853801  \n",
      "C = 0.01  || Degree = 4    || Accuracy: 0.9590643274853801  \n",
      "C = 0.01  || Degree = 2    || Accuracy: 0.9590643274853801  \n",
      "C = 0.01  || Degree = 3    || Accuracy: 0.9590643274853801  \n",
      "C = 0.01  || Degree = 4    || Accuracy: 0.9590643274853801  \n",
      "C = 0.1   || Degree = 2    || Accuracy: 0.9532163742690059  \n",
      "C = 0.1   || Degree = 3    || Accuracy: 0.9532163742690059  \n",
      "C = 0.1   || Degree = 4    || Accuracy: 0.9532163742690059  \n",
      "C = 1     || Degree = 2    || Accuracy: 0.9590643274853801  \n",
      "C = 1     || Degree = 3    || Accuracy: 0.9532163742690059  \n",
      "C = 1     || Degree = 4    || Accuracy: 0.935672514619883   \n",
      "C = 10    || Degree = 2    || Accuracy: 0.9532163742690059  \n",
      "C = 10    || Degree = 3    || Accuracy: 0.935672514619883   \n",
      "C = 10    || Degree = 4    || Accuracy: 0.935672514619883   \n",
      "\n",
      "Best Score: 0.9590643274853801, with Cost = 0.01 and Degree = 2\n"
     ]
    },
    {
     "data": {
      "text/plain": [
       "(0.01, 2, 0.9590643274853801)"
      ]
     },
     "execution_count": 8,
     "metadata": {},
     "output_type": "execute_result"
    }
   ],
   "source": [
    "poly_grid_search([0.01, 0.01, 0.1, 1, 10], [2, 3, 4])"
   ]
  },
  {
   "cell_type": "markdown",
   "id": "6208c483",
   "metadata": {},
   "source": [
    "### Question 2 rbf grid search"
   ]
  },
  {
   "cell_type": "code",
   "execution_count": 9,
   "id": "e4742e7d",
   "metadata": {},
   "outputs": [],
   "source": [
    "def rbf_grid_search(costs = [0.001, 0.01, 0.1, 1, 10, 100, 1000], gamma = [0.001, 0.01, 0.1, 1, 10, 100, 1000]):\n",
    "    \n",
    "    bestCost = -1\n",
    "    bestGam = -1\n",
    "    bestScore = -1\n",
    "    \n",
    "    for cost in costs:\n",
    "        for gam in gamma:\n",
    "            rbf_svmc = svm.SVC(kernel = 'rbf', C = cost, gamma = gam)\n",
    "            rbf_svmc.fit(xtrain, ytrain)\n",
    "            localScore = rbf_svmc.score(xtest, ytest)\n",
    "            \n",
    "            print('C = {0: <5} || Gamma = {1: <5} || Accuracy: {2: <20}'.format(cost, gam, localScore))\n",
    "            \n",
    "            #selects the best combination\n",
    "            if (localScore > bestScore):\n",
    "                bestCost = cost\n",
    "                bestGam = gam\n",
    "                bestScore = localScore\n",
    "            \n",
    "    print('\\nBest Score: {}, with Cost = {} and Gamma = {}'.format(bestScore, bestCost, bestGam))\n",
    "    return bestCost, bestGam, bestScore"
   ]
  },
  {
   "cell_type": "code",
   "execution_count": 10,
   "id": "80f59cbe",
   "metadata": {},
   "outputs": [
    {
     "name": "stdout",
     "output_type": "stream",
     "text": [
      "C = 0.01  || Gamma = 0.001 || Accuracy: 0.672514619883041   \n",
      "C = 0.01  || Gamma = 0.01  || Accuracy: 0.9532163742690059  \n",
      "C = 0.01  || Gamma = 0.1   || Accuracy: 0.672514619883041   \n",
      "C = 0.1   || Gamma = 0.001 || Accuracy: 0.9532163742690059  \n",
      "C = 0.1   || Gamma = 0.01  || Accuracy: 0.9532163742690059  \n",
      "C = 0.1   || Gamma = 0.1   || Accuracy: 0.9239766081871345  \n",
      "C = 1     || Gamma = 0.001 || Accuracy: 0.9532163742690059  \n",
      "C = 1     || Gamma = 0.01  || Accuracy: 0.9590643274853801  \n",
      "C = 1     || Gamma = 0.1   || Accuracy: 0.9532163742690059  \n",
      "C = 10    || Gamma = 0.001 || Accuracy: 0.9590643274853801  \n",
      "C = 10    || Gamma = 0.01  || Accuracy: 0.9590643274853801  \n",
      "C = 10    || Gamma = 0.1   || Accuracy: 0.9649122807017544  \n",
      "\n",
      "Best Score: 0.9649122807017544, with Cost = 10 and Gamma = 0.1\n"
     ]
    },
    {
     "data": {
      "text/plain": [
       "(10, 0.1, 0.9649122807017544)"
      ]
     },
     "execution_count": 10,
     "metadata": {},
     "output_type": "execute_result"
    }
   ],
   "source": [
    "rbf_grid_search([0.01, 0.1, 1, 10], [0.001, 0.01, 0.1])"
   ]
  },
  {
   "cell_type": "code",
   "execution_count": null,
   "id": "9d588cf0",
   "metadata": {},
   "outputs": [],
   "source": []
  }
 ],
 "metadata": {
  "kernelspec": {
   "display_name": "Python 3 (ipykernel)",
   "language": "python",
   "name": "python3"
  },
  "language_info": {
   "codemirror_mode": {
    "name": "ipython",
    "version": 3
   },
   "file_extension": ".py",
   "mimetype": "text/x-python",
   "name": "python",
   "nbconvert_exporter": "python",
   "pygments_lexer": "ipython3",
   "version": "3.11.5"
  }
 },
 "nbformat": 4,
 "nbformat_minor": 5
}
